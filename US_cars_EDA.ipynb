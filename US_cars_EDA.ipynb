{
  "nbformat": 4,
  "nbformat_minor": 0,
  "metadata": {
    "colab": {
      "provenance": [],
      "authorship_tag": "ABX9TyNKJ3t4lK/K2cmY/GR2aYES",
      "include_colab_link": true
    },
    "kernelspec": {
      "name": "python3",
      "display_name": "Python 3"
    },
    "language_info": {
      "name": "python"
    }
  },
  "cells": [
    {
      "cell_type": "markdown",
      "metadata": {
        "id": "view-in-github",
        "colab_type": "text"
      },
      "source": [
        "<a href=\"https://colab.research.google.com/github/SANYA-95/summer-of-code-2023/blob/main/US_cars_EDA.ipynb\" target=\"_parent\"><img src=\"https://colab.research.google.com/assets/colab-badge.svg\" alt=\"Open In Colab\"/></a>"
      ]
    },
    {
      "cell_type": "markdown",
      "source": [
        "# **UPLOADING DATA**"
      ],
      "metadata": {
        "id": "D2cehjHQfJQu"
      }
    },
    {
      "cell_type": "code",
      "source": [
        "import pandas as pd\n",
        "import numpy as np"
      ],
      "metadata": {
        "id": "TrdPbt9cfP8Y"
      },
      "execution_count": null,
      "outputs": []
    },
    {
      "cell_type": "code",
      "source": [
        "df = pd.read_csv('USA_cars_datasets.csv')\n",
        "df.head()"
      ],
      "metadata": {
        "colab": {
          "base_uri": "https://localhost:8080/",
          "height": 204
        },
        "id": "xrvXYK7FfVlv",
        "outputId": "d3aa4e5e-da84-476c-db76-b57c0df46c67"
      },
      "execution_count": null,
      "outputs": [
        {
          "output_type": "execute_result",
          "data": {
            "text/plain": [
              "   Unnamed: 0  price      brand    model  year   title_status   mileage  \\\n",
              "0           0   6300     toyota  cruiser  2008  clean vehicle  274117.0   \n",
              "1           1   2899       ford       se  2011  clean vehicle  190552.0   \n",
              "2           2   5350      dodge      mpv  2018  clean vehicle   39590.0   \n",
              "3           3  25000       ford     door  2014  clean vehicle   64146.0   \n",
              "4           4  27700  chevrolet     1500  2018  clean vehicle    6654.0   \n",
              "\n",
              "    color                  vin        lot       state country      condition  \n",
              "0   black    jtezu11f88k007763  159348797  new jersey     usa   10 days left  \n",
              "1  silver    2fmdk3gc4bbb02217  166951262   tennessee     usa    6 days left  \n",
              "2  silver    3c4pdcgg5jt346413  167655728     georgia     usa    2 days left  \n",
              "3    blue    1ftfw1et4efc23745  167753855    virginia     usa  22 hours left  \n",
              "4     red    3gcpcrec2jg473991  167763266     florida     usa  22 hours left  "
            ],
            "text/html": [
              "\n",
              "  <div id=\"df-022445f9-1a2f-43c9-94d3-cd734b95ad75\">\n",
              "    <div class=\"colab-df-container\">\n",
              "      <div>\n",
              "<style scoped>\n",
              "    .dataframe tbody tr th:only-of-type {\n",
              "        vertical-align: middle;\n",
              "    }\n",
              "\n",
              "    .dataframe tbody tr th {\n",
              "        vertical-align: top;\n",
              "    }\n",
              "\n",
              "    .dataframe thead th {\n",
              "        text-align: right;\n",
              "    }\n",
              "</style>\n",
              "<table border=\"1\" class=\"dataframe\">\n",
              "  <thead>\n",
              "    <tr style=\"text-align: right;\">\n",
              "      <th></th>\n",
              "      <th>Unnamed: 0</th>\n",
              "      <th>price</th>\n",
              "      <th>brand</th>\n",
              "      <th>model</th>\n",
              "      <th>year</th>\n",
              "      <th>title_status</th>\n",
              "      <th>mileage</th>\n",
              "      <th>color</th>\n",
              "      <th>vin</th>\n",
              "      <th>lot</th>\n",
              "      <th>state</th>\n",
              "      <th>country</th>\n",
              "      <th>condition</th>\n",
              "    </tr>\n",
              "  </thead>\n",
              "  <tbody>\n",
              "    <tr>\n",
              "      <th>0</th>\n",
              "      <td>0</td>\n",
              "      <td>6300</td>\n",
              "      <td>toyota</td>\n",
              "      <td>cruiser</td>\n",
              "      <td>2008</td>\n",
              "      <td>clean vehicle</td>\n",
              "      <td>274117.0</td>\n",
              "      <td>black</td>\n",
              "      <td>jtezu11f88k007763</td>\n",
              "      <td>159348797</td>\n",
              "      <td>new jersey</td>\n",
              "      <td>usa</td>\n",
              "      <td>10 days left</td>\n",
              "    </tr>\n",
              "    <tr>\n",
              "      <th>1</th>\n",
              "      <td>1</td>\n",
              "      <td>2899</td>\n",
              "      <td>ford</td>\n",
              "      <td>se</td>\n",
              "      <td>2011</td>\n",
              "      <td>clean vehicle</td>\n",
              "      <td>190552.0</td>\n",
              "      <td>silver</td>\n",
              "      <td>2fmdk3gc4bbb02217</td>\n",
              "      <td>166951262</td>\n",
              "      <td>tennessee</td>\n",
              "      <td>usa</td>\n",
              "      <td>6 days left</td>\n",
              "    </tr>\n",
              "    <tr>\n",
              "      <th>2</th>\n",
              "      <td>2</td>\n",
              "      <td>5350</td>\n",
              "      <td>dodge</td>\n",
              "      <td>mpv</td>\n",
              "      <td>2018</td>\n",
              "      <td>clean vehicle</td>\n",
              "      <td>39590.0</td>\n",
              "      <td>silver</td>\n",
              "      <td>3c4pdcgg5jt346413</td>\n",
              "      <td>167655728</td>\n",
              "      <td>georgia</td>\n",
              "      <td>usa</td>\n",
              "      <td>2 days left</td>\n",
              "    </tr>\n",
              "    <tr>\n",
              "      <th>3</th>\n",
              "      <td>3</td>\n",
              "      <td>25000</td>\n",
              "      <td>ford</td>\n",
              "      <td>door</td>\n",
              "      <td>2014</td>\n",
              "      <td>clean vehicle</td>\n",
              "      <td>64146.0</td>\n",
              "      <td>blue</td>\n",
              "      <td>1ftfw1et4efc23745</td>\n",
              "      <td>167753855</td>\n",
              "      <td>virginia</td>\n",
              "      <td>usa</td>\n",
              "      <td>22 hours left</td>\n",
              "    </tr>\n",
              "    <tr>\n",
              "      <th>4</th>\n",
              "      <td>4</td>\n",
              "      <td>27700</td>\n",
              "      <td>chevrolet</td>\n",
              "      <td>1500</td>\n",
              "      <td>2018</td>\n",
              "      <td>clean vehicle</td>\n",
              "      <td>6654.0</td>\n",
              "      <td>red</td>\n",
              "      <td>3gcpcrec2jg473991</td>\n",
              "      <td>167763266</td>\n",
              "      <td>florida</td>\n",
              "      <td>usa</td>\n",
              "      <td>22 hours left</td>\n",
              "    </tr>\n",
              "  </tbody>\n",
              "</table>\n",
              "</div>\n",
              "      <button class=\"colab-df-convert\" onclick=\"convertToInteractive('df-022445f9-1a2f-43c9-94d3-cd734b95ad75')\"\n",
              "              title=\"Convert this dataframe to an interactive table.\"\n",
              "              style=\"display:none;\">\n",
              "        \n",
              "  <svg xmlns=\"http://www.w3.org/2000/svg\" height=\"24px\"viewBox=\"0 0 24 24\"\n",
              "       width=\"24px\">\n",
              "    <path d=\"M0 0h24v24H0V0z\" fill=\"none\"/>\n",
              "    <path d=\"M18.56 5.44l.94 2.06.94-2.06 2.06-.94-2.06-.94-.94-2.06-.94 2.06-2.06.94zm-11 1L8.5 8.5l.94-2.06 2.06-.94-2.06-.94L8.5 2.5l-.94 2.06-2.06.94zm10 10l.94 2.06.94-2.06 2.06-.94-2.06-.94-.94-2.06-.94 2.06-2.06.94z\"/><path d=\"M17.41 7.96l-1.37-1.37c-.4-.4-.92-.59-1.43-.59-.52 0-1.04.2-1.43.59L10.3 9.45l-7.72 7.72c-.78.78-.78 2.05 0 2.83L4 21.41c.39.39.9.59 1.41.59.51 0 1.02-.2 1.41-.59l7.78-7.78 2.81-2.81c.8-.78.8-2.07 0-2.86zM5.41 20L4 18.59l7.72-7.72 1.47 1.35L5.41 20z\"/>\n",
              "  </svg>\n",
              "      </button>\n",
              "      \n",
              "  <style>\n",
              "    .colab-df-container {\n",
              "      display:flex;\n",
              "      flex-wrap:wrap;\n",
              "      gap: 12px;\n",
              "    }\n",
              "\n",
              "    .colab-df-convert {\n",
              "      background-color: #E8F0FE;\n",
              "      border: none;\n",
              "      border-radius: 50%;\n",
              "      cursor: pointer;\n",
              "      display: none;\n",
              "      fill: #1967D2;\n",
              "      height: 32px;\n",
              "      padding: 0 0 0 0;\n",
              "      width: 32px;\n",
              "    }\n",
              "\n",
              "    .colab-df-convert:hover {\n",
              "      background-color: #E2EBFA;\n",
              "      box-shadow: 0px 1px 2px rgba(60, 64, 67, 0.3), 0px 1px 3px 1px rgba(60, 64, 67, 0.15);\n",
              "      fill: #174EA6;\n",
              "    }\n",
              "\n",
              "    [theme=dark] .colab-df-convert {\n",
              "      background-color: #3B4455;\n",
              "      fill: #D2E3FC;\n",
              "    }\n",
              "\n",
              "    [theme=dark] .colab-df-convert:hover {\n",
              "      background-color: #434B5C;\n",
              "      box-shadow: 0px 1px 3px 1px rgba(0, 0, 0, 0.15);\n",
              "      filter: drop-shadow(0px 1px 2px rgba(0, 0, 0, 0.3));\n",
              "      fill: #FFFFFF;\n",
              "    }\n",
              "  </style>\n",
              "\n",
              "      <script>\n",
              "        const buttonEl =\n",
              "          document.querySelector('#df-022445f9-1a2f-43c9-94d3-cd734b95ad75 button.colab-df-convert');\n",
              "        buttonEl.style.display =\n",
              "          google.colab.kernel.accessAllowed ? 'block' : 'none';\n",
              "\n",
              "        async function convertToInteractive(key) {\n",
              "          const element = document.querySelector('#df-022445f9-1a2f-43c9-94d3-cd734b95ad75');\n",
              "          const dataTable =\n",
              "            await google.colab.kernel.invokeFunction('convertToInteractive',\n",
              "                                                     [key], {});\n",
              "          if (!dataTable) return;\n",
              "\n",
              "          const docLinkHtml = 'Like what you see? Visit the ' +\n",
              "            '<a target=\"_blank\" href=https://colab.research.google.com/notebooks/data_table.ipynb>data table notebook</a>'\n",
              "            + ' to learn more about interactive tables.';\n",
              "          element.innerHTML = '';\n",
              "          dataTable['output_type'] = 'display_data';\n",
              "          await google.colab.output.renderOutput(dataTable, element);\n",
              "          const docLink = document.createElement('div');\n",
              "          docLink.innerHTML = docLinkHtml;\n",
              "          element.appendChild(docLink);\n",
              "        }\n",
              "      </script>\n",
              "    </div>\n",
              "  </div>\n",
              "  "
            ]
          },
          "metadata": {},
          "execution_count": 5
        }
      ]
    },
    {
      "cell_type": "markdown",
      "source": [
        "# **DATA CLEANING**"
      ],
      "metadata": {
        "id": "51VIFSFmfoF5"
      }
    },
    {
      "cell_type": "markdown",
      "source": [
        "removing some insignificant columns"
      ],
      "metadata": {
        "id": "cYPnC8xJSNL8"
      }
    },
    {
      "cell_type": "code",
      "source": [
        "drop_columns=['Unnamed: 0', 'vin', 'lot']\n",
        "df= df.drop(drop_columns, axis=1)"
      ],
      "metadata": {
        "id": "s0hSNhNBSUVa"
      },
      "execution_count": null,
      "outputs": []
    },
    {
      "cell_type": "code",
      "source": [
        "df.head()"
      ],
      "metadata": {
        "colab": {
          "base_uri": "https://localhost:8080/",
          "height": 204
        },
        "id": "z46YRydOS21o",
        "outputId": "5320a7f0-e464-4e6a-a6c0-1f771b1861a5"
      },
      "execution_count": null,
      "outputs": [
        {
          "output_type": "execute_result",
          "data": {
            "text/plain": [
              "   price      brand    model  year   title_status   mileage   color  \\\n",
              "0   6300     toyota  cruiser  2008  clean vehicle  274117.0   black   \n",
              "1   2899       ford       se  2011  clean vehicle  190552.0  silver   \n",
              "2   5350      dodge      mpv  2018  clean vehicle   39590.0  silver   \n",
              "3  25000       ford     door  2014  clean vehicle   64146.0    blue   \n",
              "4  27700  chevrolet     1500  2018  clean vehicle    6654.0     red   \n",
              "\n",
              "        state country      condition  \n",
              "0  new jersey     usa   10 days left  \n",
              "1   tennessee     usa    6 days left  \n",
              "2     georgia     usa    2 days left  \n",
              "3    virginia     usa  22 hours left  \n",
              "4     florida     usa  22 hours left  "
            ],
            "text/html": [
              "\n",
              "  <div id=\"df-e0143bd6-0c55-4b3b-ab30-c2bd04b3bbcb\">\n",
              "    <div class=\"colab-df-container\">\n",
              "      <div>\n",
              "<style scoped>\n",
              "    .dataframe tbody tr th:only-of-type {\n",
              "        vertical-align: middle;\n",
              "    }\n",
              "\n",
              "    .dataframe tbody tr th {\n",
              "        vertical-align: top;\n",
              "    }\n",
              "\n",
              "    .dataframe thead th {\n",
              "        text-align: right;\n",
              "    }\n",
              "</style>\n",
              "<table border=\"1\" class=\"dataframe\">\n",
              "  <thead>\n",
              "    <tr style=\"text-align: right;\">\n",
              "      <th></th>\n",
              "      <th>price</th>\n",
              "      <th>brand</th>\n",
              "      <th>model</th>\n",
              "      <th>year</th>\n",
              "      <th>title_status</th>\n",
              "      <th>mileage</th>\n",
              "      <th>color</th>\n",
              "      <th>state</th>\n",
              "      <th>country</th>\n",
              "      <th>condition</th>\n",
              "    </tr>\n",
              "  </thead>\n",
              "  <tbody>\n",
              "    <tr>\n",
              "      <th>0</th>\n",
              "      <td>6300</td>\n",
              "      <td>toyota</td>\n",
              "      <td>cruiser</td>\n",
              "      <td>2008</td>\n",
              "      <td>clean vehicle</td>\n",
              "      <td>274117.0</td>\n",
              "      <td>black</td>\n",
              "      <td>new jersey</td>\n",
              "      <td>usa</td>\n",
              "      <td>10 days left</td>\n",
              "    </tr>\n",
              "    <tr>\n",
              "      <th>1</th>\n",
              "      <td>2899</td>\n",
              "      <td>ford</td>\n",
              "      <td>se</td>\n",
              "      <td>2011</td>\n",
              "      <td>clean vehicle</td>\n",
              "      <td>190552.0</td>\n",
              "      <td>silver</td>\n",
              "      <td>tennessee</td>\n",
              "      <td>usa</td>\n",
              "      <td>6 days left</td>\n",
              "    </tr>\n",
              "    <tr>\n",
              "      <th>2</th>\n",
              "      <td>5350</td>\n",
              "      <td>dodge</td>\n",
              "      <td>mpv</td>\n",
              "      <td>2018</td>\n",
              "      <td>clean vehicle</td>\n",
              "      <td>39590.0</td>\n",
              "      <td>silver</td>\n",
              "      <td>georgia</td>\n",
              "      <td>usa</td>\n",
              "      <td>2 days left</td>\n",
              "    </tr>\n",
              "    <tr>\n",
              "      <th>3</th>\n",
              "      <td>25000</td>\n",
              "      <td>ford</td>\n",
              "      <td>door</td>\n",
              "      <td>2014</td>\n",
              "      <td>clean vehicle</td>\n",
              "      <td>64146.0</td>\n",
              "      <td>blue</td>\n",
              "      <td>virginia</td>\n",
              "      <td>usa</td>\n",
              "      <td>22 hours left</td>\n",
              "    </tr>\n",
              "    <tr>\n",
              "      <th>4</th>\n",
              "      <td>27700</td>\n",
              "      <td>chevrolet</td>\n",
              "      <td>1500</td>\n",
              "      <td>2018</td>\n",
              "      <td>clean vehicle</td>\n",
              "      <td>6654.0</td>\n",
              "      <td>red</td>\n",
              "      <td>florida</td>\n",
              "      <td>usa</td>\n",
              "      <td>22 hours left</td>\n",
              "    </tr>\n",
              "  </tbody>\n",
              "</table>\n",
              "</div>\n",
              "      <button class=\"colab-df-convert\" onclick=\"convertToInteractive('df-e0143bd6-0c55-4b3b-ab30-c2bd04b3bbcb')\"\n",
              "              title=\"Convert this dataframe to an interactive table.\"\n",
              "              style=\"display:none;\">\n",
              "        \n",
              "  <svg xmlns=\"http://www.w3.org/2000/svg\" height=\"24px\"viewBox=\"0 0 24 24\"\n",
              "       width=\"24px\">\n",
              "    <path d=\"M0 0h24v24H0V0z\" fill=\"none\"/>\n",
              "    <path d=\"M18.56 5.44l.94 2.06.94-2.06 2.06-.94-2.06-.94-.94-2.06-.94 2.06-2.06.94zm-11 1L8.5 8.5l.94-2.06 2.06-.94-2.06-.94L8.5 2.5l-.94 2.06-2.06.94zm10 10l.94 2.06.94-2.06 2.06-.94-2.06-.94-.94-2.06-.94 2.06-2.06.94z\"/><path d=\"M17.41 7.96l-1.37-1.37c-.4-.4-.92-.59-1.43-.59-.52 0-1.04.2-1.43.59L10.3 9.45l-7.72 7.72c-.78.78-.78 2.05 0 2.83L4 21.41c.39.39.9.59 1.41.59.51 0 1.02-.2 1.41-.59l7.78-7.78 2.81-2.81c.8-.78.8-2.07 0-2.86zM5.41 20L4 18.59l7.72-7.72 1.47 1.35L5.41 20z\"/>\n",
              "  </svg>\n",
              "      </button>\n",
              "      \n",
              "  <style>\n",
              "    .colab-df-container {\n",
              "      display:flex;\n",
              "      flex-wrap:wrap;\n",
              "      gap: 12px;\n",
              "    }\n",
              "\n",
              "    .colab-df-convert {\n",
              "      background-color: #E8F0FE;\n",
              "      border: none;\n",
              "      border-radius: 50%;\n",
              "      cursor: pointer;\n",
              "      display: none;\n",
              "      fill: #1967D2;\n",
              "      height: 32px;\n",
              "      padding: 0 0 0 0;\n",
              "      width: 32px;\n",
              "    }\n",
              "\n",
              "    .colab-df-convert:hover {\n",
              "      background-color: #E2EBFA;\n",
              "      box-shadow: 0px 1px 2px rgba(60, 64, 67, 0.3), 0px 1px 3px 1px rgba(60, 64, 67, 0.15);\n",
              "      fill: #174EA6;\n",
              "    }\n",
              "\n",
              "    [theme=dark] .colab-df-convert {\n",
              "      background-color: #3B4455;\n",
              "      fill: #D2E3FC;\n",
              "    }\n",
              "\n",
              "    [theme=dark] .colab-df-convert:hover {\n",
              "      background-color: #434B5C;\n",
              "      box-shadow: 0px 1px 3px 1px rgba(0, 0, 0, 0.15);\n",
              "      filter: drop-shadow(0px 1px 2px rgba(0, 0, 0, 0.3));\n",
              "      fill: #FFFFFF;\n",
              "    }\n",
              "  </style>\n",
              "\n",
              "      <script>\n",
              "        const buttonEl =\n",
              "          document.querySelector('#df-e0143bd6-0c55-4b3b-ab30-c2bd04b3bbcb button.colab-df-convert');\n",
              "        buttonEl.style.display =\n",
              "          google.colab.kernel.accessAllowed ? 'block' : 'none';\n",
              "\n",
              "        async function convertToInteractive(key) {\n",
              "          const element = document.querySelector('#df-e0143bd6-0c55-4b3b-ab30-c2bd04b3bbcb');\n",
              "          const dataTable =\n",
              "            await google.colab.kernel.invokeFunction('convertToInteractive',\n",
              "                                                     [key], {});\n",
              "          if (!dataTable) return;\n",
              "\n",
              "          const docLinkHtml = 'Like what you see? Visit the ' +\n",
              "            '<a target=\"_blank\" href=https://colab.research.google.com/notebooks/data_table.ipynb>data table notebook</a>'\n",
              "            + ' to learn more about interactive tables.';\n",
              "          element.innerHTML = '';\n",
              "          dataTable['output_type'] = 'display_data';\n",
              "          await google.colab.output.renderOutput(dataTable, element);\n",
              "          const docLink = document.createElement('div');\n",
              "          docLink.innerHTML = docLinkHtml;\n",
              "          element.appendChild(docLink);\n",
              "        }\n",
              "      </script>\n",
              "    </div>\n",
              "  </div>\n",
              "  "
            ]
          },
          "metadata": {},
          "execution_count": 7
        }
      ]
    },
    {
      "cell_type": "markdown",
      "source": [
        "removing some insignificant rows, such as those having zero prices"
      ],
      "metadata": {
        "id": "13fKPcdQS5it"
      }
    },
    {
      "cell_type": "code",
      "source": [
        "drop_rows= df.loc[df['price']==0].index"
      ],
      "metadata": {
        "id": "O-ZNtjYDTAz5"
      },
      "execution_count": null,
      "outputs": []
    },
    {
      "cell_type": "code",
      "source": [
        "df= df.drop(drop_rows)"
      ],
      "metadata": {
        "id": "mPLEqOYJTUvS"
      },
      "execution_count": null,
      "outputs": []
    },
    {
      "cell_type": "code",
      "source": [
        "df.head()"
      ],
      "metadata": {
        "colab": {
          "base_uri": "https://localhost:8080/",
          "height": 204
        },
        "id": "Tu3gx2qyTddl",
        "outputId": "014414d3-56cb-4343-91ad-e163f70f09bb"
      },
      "execution_count": null,
      "outputs": [
        {
          "output_type": "execute_result",
          "data": {
            "text/plain": [
              "   price      brand    model  year   title_status   mileage   color  \\\n",
              "0   6300     toyota  cruiser  2008  clean vehicle  274117.0   black   \n",
              "1   2899       ford       se  2011  clean vehicle  190552.0  silver   \n",
              "2   5350      dodge      mpv  2018  clean vehicle   39590.0  silver   \n",
              "3  25000       ford     door  2014  clean vehicle   64146.0    blue   \n",
              "4  27700  chevrolet     1500  2018  clean vehicle    6654.0     red   \n",
              "\n",
              "        state country      condition  \n",
              "0  new jersey     usa   10 days left  \n",
              "1   tennessee     usa    6 days left  \n",
              "2     georgia     usa    2 days left  \n",
              "3    virginia     usa  22 hours left  \n",
              "4     florida     usa  22 hours left  "
            ],
            "text/html": [
              "\n",
              "  <div id=\"df-f0e0efea-db18-423c-a182-7fdc3d646f2f\">\n",
              "    <div class=\"colab-df-container\">\n",
              "      <div>\n",
              "<style scoped>\n",
              "    .dataframe tbody tr th:only-of-type {\n",
              "        vertical-align: middle;\n",
              "    }\n",
              "\n",
              "    .dataframe tbody tr th {\n",
              "        vertical-align: top;\n",
              "    }\n",
              "\n",
              "    .dataframe thead th {\n",
              "        text-align: right;\n",
              "    }\n",
              "</style>\n",
              "<table border=\"1\" class=\"dataframe\">\n",
              "  <thead>\n",
              "    <tr style=\"text-align: right;\">\n",
              "      <th></th>\n",
              "      <th>price</th>\n",
              "      <th>brand</th>\n",
              "      <th>model</th>\n",
              "      <th>year</th>\n",
              "      <th>title_status</th>\n",
              "      <th>mileage</th>\n",
              "      <th>color</th>\n",
              "      <th>state</th>\n",
              "      <th>country</th>\n",
              "      <th>condition</th>\n",
              "    </tr>\n",
              "  </thead>\n",
              "  <tbody>\n",
              "    <tr>\n",
              "      <th>0</th>\n",
              "      <td>6300</td>\n",
              "      <td>toyota</td>\n",
              "      <td>cruiser</td>\n",
              "      <td>2008</td>\n",
              "      <td>clean vehicle</td>\n",
              "      <td>274117.0</td>\n",
              "      <td>black</td>\n",
              "      <td>new jersey</td>\n",
              "      <td>usa</td>\n",
              "      <td>10 days left</td>\n",
              "    </tr>\n",
              "    <tr>\n",
              "      <th>1</th>\n",
              "      <td>2899</td>\n",
              "      <td>ford</td>\n",
              "      <td>se</td>\n",
              "      <td>2011</td>\n",
              "      <td>clean vehicle</td>\n",
              "      <td>190552.0</td>\n",
              "      <td>silver</td>\n",
              "      <td>tennessee</td>\n",
              "      <td>usa</td>\n",
              "      <td>6 days left</td>\n",
              "    </tr>\n",
              "    <tr>\n",
              "      <th>2</th>\n",
              "      <td>5350</td>\n",
              "      <td>dodge</td>\n",
              "      <td>mpv</td>\n",
              "      <td>2018</td>\n",
              "      <td>clean vehicle</td>\n",
              "      <td>39590.0</td>\n",
              "      <td>silver</td>\n",
              "      <td>georgia</td>\n",
              "      <td>usa</td>\n",
              "      <td>2 days left</td>\n",
              "    </tr>\n",
              "    <tr>\n",
              "      <th>3</th>\n",
              "      <td>25000</td>\n",
              "      <td>ford</td>\n",
              "      <td>door</td>\n",
              "      <td>2014</td>\n",
              "      <td>clean vehicle</td>\n",
              "      <td>64146.0</td>\n",
              "      <td>blue</td>\n",
              "      <td>virginia</td>\n",
              "      <td>usa</td>\n",
              "      <td>22 hours left</td>\n",
              "    </tr>\n",
              "    <tr>\n",
              "      <th>4</th>\n",
              "      <td>27700</td>\n",
              "      <td>chevrolet</td>\n",
              "      <td>1500</td>\n",
              "      <td>2018</td>\n",
              "      <td>clean vehicle</td>\n",
              "      <td>6654.0</td>\n",
              "      <td>red</td>\n",
              "      <td>florida</td>\n",
              "      <td>usa</td>\n",
              "      <td>22 hours left</td>\n",
              "    </tr>\n",
              "  </tbody>\n",
              "</table>\n",
              "</div>\n",
              "      <button class=\"colab-df-convert\" onclick=\"convertToInteractive('df-f0e0efea-db18-423c-a182-7fdc3d646f2f')\"\n",
              "              title=\"Convert this dataframe to an interactive table.\"\n",
              "              style=\"display:none;\">\n",
              "        \n",
              "  <svg xmlns=\"http://www.w3.org/2000/svg\" height=\"24px\"viewBox=\"0 0 24 24\"\n",
              "       width=\"24px\">\n",
              "    <path d=\"M0 0h24v24H0V0z\" fill=\"none\"/>\n",
              "    <path d=\"M18.56 5.44l.94 2.06.94-2.06 2.06-.94-2.06-.94-.94-2.06-.94 2.06-2.06.94zm-11 1L8.5 8.5l.94-2.06 2.06-.94-2.06-.94L8.5 2.5l-.94 2.06-2.06.94zm10 10l.94 2.06.94-2.06 2.06-.94-2.06-.94-.94-2.06-.94 2.06-2.06.94z\"/><path d=\"M17.41 7.96l-1.37-1.37c-.4-.4-.92-.59-1.43-.59-.52 0-1.04.2-1.43.59L10.3 9.45l-7.72 7.72c-.78.78-.78 2.05 0 2.83L4 21.41c.39.39.9.59 1.41.59.51 0 1.02-.2 1.41-.59l7.78-7.78 2.81-2.81c.8-.78.8-2.07 0-2.86zM5.41 20L4 18.59l7.72-7.72 1.47 1.35L5.41 20z\"/>\n",
              "  </svg>\n",
              "      </button>\n",
              "      \n",
              "  <style>\n",
              "    .colab-df-container {\n",
              "      display:flex;\n",
              "      flex-wrap:wrap;\n",
              "      gap: 12px;\n",
              "    }\n",
              "\n",
              "    .colab-df-convert {\n",
              "      background-color: #E8F0FE;\n",
              "      border: none;\n",
              "      border-radius: 50%;\n",
              "      cursor: pointer;\n",
              "      display: none;\n",
              "      fill: #1967D2;\n",
              "      height: 32px;\n",
              "      padding: 0 0 0 0;\n",
              "      width: 32px;\n",
              "    }\n",
              "\n",
              "    .colab-df-convert:hover {\n",
              "      background-color: #E2EBFA;\n",
              "      box-shadow: 0px 1px 2px rgba(60, 64, 67, 0.3), 0px 1px 3px 1px rgba(60, 64, 67, 0.15);\n",
              "      fill: #174EA6;\n",
              "    }\n",
              "\n",
              "    [theme=dark] .colab-df-convert {\n",
              "      background-color: #3B4455;\n",
              "      fill: #D2E3FC;\n",
              "    }\n",
              "\n",
              "    [theme=dark] .colab-df-convert:hover {\n",
              "      background-color: #434B5C;\n",
              "      box-shadow: 0px 1px 3px 1px rgba(0, 0, 0, 0.15);\n",
              "      filter: drop-shadow(0px 1px 2px rgba(0, 0, 0, 0.3));\n",
              "      fill: #FFFFFF;\n",
              "    }\n",
              "  </style>\n",
              "\n",
              "      <script>\n",
              "        const buttonEl =\n",
              "          document.querySelector('#df-f0e0efea-db18-423c-a182-7fdc3d646f2f button.colab-df-convert');\n",
              "        buttonEl.style.display =\n",
              "          google.colab.kernel.accessAllowed ? 'block' : 'none';\n",
              "\n",
              "        async function convertToInteractive(key) {\n",
              "          const element = document.querySelector('#df-f0e0efea-db18-423c-a182-7fdc3d646f2f');\n",
              "          const dataTable =\n",
              "            await google.colab.kernel.invokeFunction('convertToInteractive',\n",
              "                                                     [key], {});\n",
              "          if (!dataTable) return;\n",
              "\n",
              "          const docLinkHtml = 'Like what you see? Visit the ' +\n",
              "            '<a target=\"_blank\" href=https://colab.research.google.com/notebooks/data_table.ipynb>data table notebook</a>'\n",
              "            + ' to learn more about interactive tables.';\n",
              "          element.innerHTML = '';\n",
              "          dataTable['output_type'] = 'display_data';\n",
              "          await google.colab.output.renderOutput(dataTable, element);\n",
              "          const docLink = document.createElement('div');\n",
              "          docLink.innerHTML = docLinkHtml;\n",
              "          element.appendChild(docLink);\n",
              "        }\n",
              "      </script>\n",
              "    </div>\n",
              "  </div>\n",
              "  "
            ]
          },
          "metadata": {},
          "execution_count": 10
        }
      ]
    },
    {
      "cell_type": "code",
      "source": [
        "df.shape"
      ],
      "metadata": {
        "colab": {
          "base_uri": "https://localhost:8080/"
        },
        "id": "QlgIEY-KTxFh",
        "outputId": "8b058e54-5d92-4da1-fc90-ea4e2995871f"
      },
      "execution_count": null,
      "outputs": [
        {
          "output_type": "execute_result",
          "data": {
            "text/plain": [
              "(2456, 10)"
            ]
          },
          "metadata": {},
          "execution_count": 13
        }
      ]
    },
    {
      "cell_type": "code",
      "source": [
        "df.min()"
      ],
      "metadata": {
        "colab": {
          "base_uri": "https://localhost:8080/"
        },
        "id": "nWw6uJKmUb9R",
        "outputId": "40c4adc7-6eee-4039-abfc-693017dcc6bf"
      },
      "execution_count": null,
      "outputs": [
        {
          "output_type": "execute_result",
          "data": {
            "text/plain": [
              "price                      25\n",
              "brand                   acura\n",
              "model                    1500\n",
              "year                     1973\n",
              "title_status    clean vehicle\n",
              "mileage                   0.0\n",
              "color                   beige\n",
              "state                 alabama\n",
              "country                canada\n",
              "condition         1 days left\n",
              "dtype: object"
            ]
          },
          "metadata": {},
          "execution_count": 14
        }
      ]
    },
    {
      "cell_type": "code",
      "source": [
        "df.max()"
      ],
      "metadata": {
        "colab": {
          "base_uri": "https://localhost:8080/"
        },
        "id": "VyZEnkxRUfEB",
        "outputId": "ab53b277-4c36-42f4-f226-3147a9a3c7c2"
      },
      "execution_count": null,
      "outputs": [
        {
          "output_type": "execute_result",
          "data": {
            "text/plain": [
              "price                       84900\n",
              "brand                      toyota\n",
              "model                      xterra\n",
              "year                         2020\n",
              "title_status    salvage insurance\n",
              "mileage                 1017936.0\n",
              "color                      yellow\n",
              "state                   wisconsin\n",
              "country                       usa\n",
              "condition         Listing Expired\n",
              "dtype: object"
            ]
          },
          "metadata": {},
          "execution_count": 15
        }
      ]
    },
    {
      "cell_type": "code",
      "source": [
        "df['price'].min()"
      ],
      "metadata": {
        "colab": {
          "base_uri": "https://localhost:8080/"
        },
        "id": "ypujQkuZVeNj",
        "outputId": "59f4440f-0eab-45b5-a2a0-e3d4f1415772"
      },
      "execution_count": null,
      "outputs": [
        {
          "output_type": "execute_result",
          "data": {
            "text/plain": [
              "25"
            ]
          },
          "metadata": {},
          "execution_count": 17
        }
      ]
    },
    {
      "cell_type": "markdown",
      "source": [
        "# **ANALYSIS OF DATA FROM THE PERSPECTIVE OF PRICE**"
      ],
      "metadata": {
        "id": "5DloSSFkU0rr"
      }
    },
    {
      "cell_type": "code",
      "source": [
        "import matplotlib.pyplot as plt"
      ],
      "metadata": {
        "id": "tABVlHODU9DD"
      },
      "execution_count": null,
      "outputs": []
    },
    {
      "cell_type": "markdown",
      "source": [
        "plotting a bar graph of price vs year"
      ],
      "metadata": {
        "id": "uT2MBx19et6h"
      }
    },
    {
      "cell_type": "code",
      "source": [
        "price = df['price']\n",
        "year = df['year']\n",
        "plt.figure(figsize=(15, 6))\n",
        "plt.bar(year,price)\n",
        "plt.xlabel('Year')\n",
        "plt.ylabel('Price')\n",
        "plt.title('Year vs Price')\n",
        "plt.show()"
      ],
      "metadata": {
        "colab": {
          "base_uri": "https://localhost:8080/",
          "height": 564
        },
        "id": "lpMosgUee05w",
        "outputId": "40f0e551-ef71-44c5-f999-020d64ad9059"
      },
      "execution_count": null,
      "outputs": [
        {
          "output_type": "display_data",
          "data": {
            "text/plain": [
              "<Figure size 1500x600 with 1 Axes>"
            ],
            "image/png": "[encoded data removed]"
          },
          "metadata": {}
        }
      ]
    },
    {
      "cell_type": "markdown",
      "source": [
        "plotting a bar graph of brand vs price"
      ],
      "metadata": {
        "id": "3FwFqjGrf6iA"
      }
    },
    {
      "cell_type": "code",
      "source": [
        "price = df['price']\n",
        "year = df['brand']\n",
        "plt.figure(figsize=(20, 6))\n",
        "plt.bar(year,price)\n",
        "plt.xlabel('Year')\n",
        "plt.ylabel('Brand')\n",
        "plt.title('Brand vs Price')\n",
        "plt.show()"
      ],
      "metadata": {
        "colab": {
          "base_uri": "https://localhost:8080/",
          "height": 466
        },
        "id": "tB3DWCdogG4X",
        "outputId": "08350928-8722-46df-ef4d-b16f0f599669"
      },
      "execution_count": null,
      "outputs": [
        {
          "output_type": "display_data",
          "data": {
            "text/plain": [
              "<Figure size 2000x600 with 1 Axes>"
            ],
            "image/png": "[encoded data removed]"
          },
          "metadata": {}
        }
      ]
    },
    {
      "cell_type": "markdown",
      "source": [
        "We will build a histogram for cars vs prices"
      ],
      "metadata": {
        "id": "7fCoScdXlWfe"
      }
    },
    {
      "cell_type": "code",
      "source": [
        "import seaborn as sns"
      ],
      "metadata": {
        "id": "Vx_0olVjktqf"
      },
      "execution_count": null,
      "outputs": []
    },
    {
      "cell_type": "code",
      "source": [
        "sns.displot(df['price'])"
      ],
      "metadata": {
        "colab": {
          "base_uri": "https://localhost:8080/",
          "height": 523
        },
        "id": "epdIV2Jxk1qi",
        "outputId": "faa5b4f1-d2ac-449a-f6b3-6e6f23b9ad5f"
      },
      "execution_count": null,
      "outputs": [
        {
          "output_type": "execute_result",
          "data": {
            "text/plain": [
              "<seaborn.axisgrid.FacetGrid at 0x7f8719758a30>"
            ]
          },
          "metadata": {},
          "execution_count": 27
        },
        {
          "output_type": "display_data",
          "data": {
            "text/plain": [
              "<Figure size 500x500 with 1 Axes>"
            ],
            "image/png": "[encoded data removed]"
          },
          "metadata": {}
        }
      ]
    }
  ]
}